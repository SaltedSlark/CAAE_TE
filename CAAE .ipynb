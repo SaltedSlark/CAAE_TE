{
 "cells": [
  {
   "cell_type": "code",
   "execution_count": 1,
   "metadata": {},
   "outputs": [
    {
     "name": "stderr",
     "output_type": "stream",
     "text": [
      "/home/zhangj/anaconda2/envs/Python35/lib/python3.5/site-packages/h5py/__init__.py:36: FutureWarning: Conversion of the second argument of issubdtype from `float` to `np.floating` is deprecated. In future, it will be treated as `np.float64 == np.dtype(float).type`.\n",
      "  from ._conv import register_converters as _register_converters\n",
      "Using TensorFlow backend.\n"
     ]
    }
   ],
   "source": [
    "#-*- coding: utf-8 -*-\n",
    "from aae_utils import set_gpu_usage,get_train_test,sample_fault,sample_from_prior\n",
    "from data import data_loader\n",
    "\n",
    "import keras.backend as K\n",
    "from keras.layers import Input,Dense,Merge,merge\n",
    "from keras.layers.core import Activation\n",
    "from keras.models import Model,Sequential\n",
    "from keras.optimizers import Adam\n",
    "from keras.layers.normalization import BatchNormalization\n",
    "from keras.utils.generic_utils import Progbar\n",
    "from collections import defaultdict\n",
    "import pickle\n",
    "import numpy as np\n",
    "import tensorflow as tf\n",
    "import matplotlib.patches as mpatches\n",
    "from math import sin,cos,sqrt\n",
    "\n",
    "import matplotlib.pyplot as plt\n",
    "from matplotlib.pyplot import cm\n",
    "import matplotlib\n",
    "matplotlib.pyplot.switch_backend('agg')\n",
    "from mpl_toolkits.mplot3d import Axes3D\n",
    "import os\n",
    "import errno\n",
    "\n"
   ]
  },
  {
   "cell_type": "code",
   "execution_count": 2,
   "metadata": {},
   "outputs": [],
   "source": [
    "def set_gpu_usage(ratio=0.9,gpu=1):\n",
    "    config=tf.ConfigProto(gpu_options=tf.GPUOptions(\n",
    "                                        per_process_gpu_memory_fraction=ratio,\n",
    "                                        allow_growth=True),\n",
    "                          device_count={'GPU':gpu},\n",
    "                          allow_soft_placement=True)\n",
    "    sess=tf.Session(config=config)\n",
    "    K.set_session(sess)\n",
    "\n",
    "\n",
    "def make_sure_path_exists(path):\n",
    "    try:\n",
    "        os.makedirs(path)\n",
    "    except OSError as exception:\n",
    "        if exception.errno != errno.EEXIST:\n",
    "            raise\n",
    "def get_normalized_vector(v):\n",
    "    v=v/(1e-20+K.max(K.abs(v),axis=1,keepdims=True))\n",
    "    v_2=K.sum(v**2,axis=1,keepdims=True)\n",
    "    return v / K.sqrt(1e-6+v_2)\n",
    "\n",
    "# sample function of z_p\n",
    "\n",
    "def make_trainable(net, val):\n",
    "    net.trainable = val\n",
    "    for l in net.layers:\n",
    "        l.trainable = val"
   ]
  },
  {
   "cell_type": "code",
   "execution_count": 3,
   "metadata": {},
   "outputs": [],
   "source": [
    "latent_dim = 2\n",
    "z_prior='gaussian'\n",
    "lamb=-20\n",
    "recon_obj_type='QE'\n",
    "initial_learning_rate=0.003\n",
    "learning_rate_decay=1.0\n",
    "num_epochs=20\n",
    "batch_size=10\n",
    "save_filename='trained_model'\n",
    "seed=1\n",
    "path='./datasets'\n",
    "datapath = os.getcwd() + '/datasets'\n",
    "\n",
    "opt_gen=Adam(lr=0.00001,decay=0.99)\n",
    "opt_rec=Adam(lr=0.001,decay=0.99)\n",
    "opt_disc=Adam(lr=0.02,decay=0.99)\n",
    "\n",
    "make_sure_path_exists(path)\n",
    "set_gpu_usage(ratio=0.9,gpu=0)"
   ]
  },
  {
   "cell_type": "markdown",
   "metadata": {},
   "source": [
    "## Data_preprocess"
   ]
  },
  {
   "cell_type": "code",
   "execution_count": 4,
   "metadata": {},
   "outputs": [
    {
     "name": "stdout",
     "output_type": "stream",
     "text": [
      "the shape of x_train:\n",
      "(2034, 52)\n",
      "the shape of x_test:\n",
      "(226, 52)\n",
      "the shape of y_train:\n",
      "(2034, 52)\n",
      "the shape of y_test:\n",
      "(226, 52)\n"
     ]
    }
   ],
   "source": [
    "DataFiles={'normal':'d00_te.dat','fault1':'d01_te.dat','fault2':'d02_te.dat',\n",
    "           'fault3':'d03_te.dat','fault4':'d04_te.dat','fault5':'d05_te.dat',\n",
    "           'fault6':'d06_te.dat','fault7':'d07_te.dat','fault8':'d08_te.dat',\n",
    "           'fault9':'d09_te.dat','fault10':'d10_te.dat','fault11':'d11_te.dat',\n",
    "           'fault12':'d12_te.dat','fault13':'d13_te.dat','fault14':'d14_te.dat',\n",
    "           'fault15':'d15_te.dat','fault16':'d16_te.dat','fault17':'d17_te.dat',\n",
    "           'fault18':'d18_te.dat','fault19':'d19_te.dat','fault20':'d20_te.dat',\n",
    "           'fault21':'d21_te.dat'}\n",
    "\n",
    "datapath = os.getcwd() + '/datasets/data_960'\n",
    "xx=np.genfromtxt(datapath + '/d00.dat',dtype=np.float32)\n",
    "yy=np.genfromtxt(datapath + '/d00_te.dat',dtype=np.float32)\n",
    "fault_1_path = datapath + '/d01_te.dat'\n",
    "fault = np.genfromtxt(fault_1_path,dtype=None)\n",
    "fault = fault[160:960]\n",
    "np.random.seed(0)\n",
    "np.random.shuffle(fault)\n",
    "x_fault = fault\n",
    "\n",
    "train_data=np.row_stack((xx.T,yy,x_fault))   #将数据矩阵x和y合成新的数据矩阵用于训练\n",
    "#np.random.shuffle(train_data)\n",
    "n=train_data.shape[0]\n",
    "y=np.zeros((n,1))\n",
    "\n",
    "for i in range(1,n):\n",
    "    if i<1460:\n",
    "        y[i,0]=1\n",
    "    else:\n",
    "        y[i,0]=0\n",
    "\n",
    "data_ratio=1\n",
    "X_Normal=train_data\n",
    "train_data_min=np.min(train_data,axis=0)\n",
    "train_data_max=np.max(train_data,axis=0)\n",
    "Data_normalization=(train_data-train_data_min)/(train_data_max-train_data_min)\n",
    "#print(X_Normal.shape[0])\n",
    "index=np.arange(X_Normal.shape[0])\n",
    "np.random.shuffle(index)\n",
    "data_size=int(train_data.shape[0]*data_ratio)\n",
    "X_normal=X_Normal[index[:data_size]]\n",
    "Y=y[index[:data_size]]\n",
    "#print(X_normal.shape[0])\n",
    "X_min=np.min(X_normal,axis=0)\n",
    "X_max=np.max(X_normal,axis=0)\n",
    "#训练集大小\n",
    "X=X_normal\n",
    "train_ratio=0.9\n",
    "X_normalization=(X-X_min)/(X_max-X_min)  \n",
    "#np.random.shuffle(X_normalization)\n",
    "indices=np.arange(X.shape[0])\n",
    "np.random.shuffle(indices)\n",
    "train_size=int(X.shape[0]*train_ratio)    \n",
    "x_train=X_normalization[indices[:train_size]]\n",
    "x_test=X_normalization[indices[train_size:]]\n",
    "y_train=Y[indices[:train_size]]\n",
    "y_test=Y[indices[train_size:]]\n",
    "\n",
    "print('the shape of x_train:')\n",
    "print(np.shape(x_train))\n",
    "print('the shape of x_test:')\n",
    "print(np.shape(x_test))\n",
    "print('the shape of y_train:')\n",
    "print(np.shape(x_train))\n",
    "print('the shape of y_test:')\n",
    "print(np.shape(x_test))"
   ]
  },
  {
   "cell_type": "markdown",
   "metadata": {},
   "source": [
    "## Model config"
   ]
  },
  {
   "cell_type": "code",
   "execution_count": 5,
   "metadata": {},
   "outputs": [
    {
     "name": "stderr",
     "output_type": "stream",
     "text": [
      "/home/zhangj/anaconda2/envs/Python35/lib/python3.5/site-packages/ipykernel_launcher.py:3: UserWarning: The `merge` function is deprecated and will be removed after 08/2017. Use instead layers from `keras.layers.merge`, e.g. `add`, `concatenate`, etc.\n",
      "  This is separate from the ipykernel package so we can avoid doing imports until\n",
      "/home/zhangj/anaconda2/envs/Python35/lib/python3.5/site-packages/keras/legacy/layers.py:464: UserWarning: The `Merge` layer is deprecated and will be removed after 08/2017. Use instead layers from `keras.layers.merge`, e.g. `add`, `concatenate`, etc.\n",
      "  name=name)\n",
      "/home/zhangj/anaconda2/envs/Python35/lib/python3.5/site-packages/ipykernel_launcher.py:7: UserWarning: The `merge` function is deprecated and will be removed after 08/2017. Use instead layers from `keras.layers.merge`, e.g. `add`, `concatenate`, etc.\n",
      "  import sys\n"
     ]
    }
   ],
   "source": [
    "X=Input(shape=[x_train.shape[1]])\n",
    "cond=Input(shape=[y_train.shape[1]])\n",
    "inputs=merge([X,cond],mode='concat',concat_axis=1)\n",
    "h1=Dense(200,activation='relu')(inputs)\n",
    "h2=Dense(200,activation='relu')(h1)\n",
    "z=Dense(latent_dim)(h2)\n",
    "z_cond=merge([z,cond],mode='concat',concat_axis=1)"
   ]
  },
  {
   "cell_type": "code",
   "execution_count": 6,
   "metadata": {},
   "outputs": [],
   "source": [
    "decoder_hidden1=Dense(200,activation='relu')\n",
    "decoder_hidden2=Dense(200,activation='relu')\n",
    "decoder_out=Dense(52,activation='sigmoid')\n",
    "\n",
    "h_p1=decoder_hidden1(z_cond)\n",
    "h_p2=decoder_hidden2(h_p1)\n",
    "outputs=decoder_out(h_p2)"
   ]
  },
  {
   "cell_type": "code",
   "execution_count": 7,
   "metadata": {},
   "outputs": [],
   "source": [
    "autoencoder=Model([X,cond],outputs)\n",
    "encoder=Model([X,cond],z)"
   ]
  },
  {
   "cell_type": "code",
   "execution_count": 8,
   "metadata": {},
   "outputs": [
    {
     "name": "stderr",
     "output_type": "stream",
     "text": [
      "/home/zhangj/anaconda2/envs/Python35/lib/python3.5/site-packages/ipykernel_launcher.py:3: UserWarning: The `merge` function is deprecated and will be removed after 08/2017. Use instead layers from `keras.layers.merge`, e.g. `add`, `concatenate`, etc.\n",
      "  This is separate from the ipykernel package so we can avoid doing imports until\n",
      "/home/zhangj/anaconda2/envs/Python35/lib/python3.5/site-packages/keras/legacy/layers.py:464: UserWarning: The `Merge` layer is deprecated and will be removed after 08/2017. Use instead layers from `keras.layers.merge`, e.g. `add`, `concatenate`, etc.\n",
      "  name=name)\n"
     ]
    }
   ],
   "source": [
    "d_cond=Input(shape=[y_train.shape[1]])\n",
    "d_z=Input(shape=[latent_dim])\n",
    "d_inputs=merge([d_z,d_cond],mode='concat',concat_axis=1)\n",
    "d_h1=decoder_hidden1(d_inputs)\n",
    "d_h2=decoder_hidden2(d_h1)\n",
    "d_out=decoder_out(d_h2)\n",
    "decoder=Model([d_z,d_cond],d_out)"
   ]
  },
  {
   "cell_type": "code",
   "execution_count": 9,
   "metadata": {},
   "outputs": [],
   "source": [
    "def build_discriminator(input,output_dim=2):\n",
    "    h=Dense(50)(input)\n",
    "    h=Activation('relu')(h)\n",
    "    h=Dense(50)(h)\n",
    "    h=Activation('relu')(h)\n",
    "    h=Dense(1)(h)\n",
    "    h=Activation('sigmoid',name='discriminator_output')(h)\n",
    "    return h\n"
   ]
  },
  {
   "cell_type": "code",
   "execution_count": 10,
   "metadata": {},
   "outputs": [],
   "source": [
    "discriminator_hidden1=Dense(50,activation='relu')\n",
    "discriminator_hidden2=Dense(50,activation='relu')\n",
    "discriminator_out=Dense(1,activation='sigmoid')\n",
    "\n",
    "d_p=discriminator_hidden1(z)\n",
    "labels=discriminator_out(d_p)"
   ]
  },
  {
   "cell_type": "code",
   "execution_count": 11,
   "metadata": {},
   "outputs": [],
   "source": [
    "input_z=Input(shape=[latent_dim],name='z_input')\n",
    "#D_cond=Input(shape=[y_train.shape[1]])\n",
    "#D_inputs=merge([input_z,D_cond],mode='concat',concat_axis=1)\n",
    "D_h1=discriminator_hidden1(input_z)\n",
    "D_h2=discriminator_hidden2(D_h1)\n",
    "D_out=discriminator_out(D_h2)\n",
    "\n",
    "discriminator=Model(input_z,D_out)\n",
    "G_out=discriminator(z)\n",
    "discriminator_x=Model([X,cond],G_out)"
   ]
  },
  {
   "cell_type": "markdown",
   "metadata": {},
   "source": [
    "## Target Distribution p(z)"
   ]
  },
  {
   "cell_type": "code",
   "execution_count": 12,
   "metadata": {},
   "outputs": [],
   "source": [
    "\n",
    "def gaussian_mixture(batch_size, n_dim=2, n_labels=2,\n",
    "                     x_var=0.5, y_var=0.1, label_indices=None):\n",
    "    # borrow from:\n",
    "    # https://github.com/nicklhy/AdversarialAutoEncoder/blob/master/data_factory.py#L40\n",
    "    if n_dim % 2 != 0:\n",
    "        raise Exception(\"n_dim must be a multiple of 2.\")\n",
    "\n",
    "    def sample(x, y, label, n_labels):\n",
    "        shift = 1.4\n",
    "        if label >= n_labels:\n",
    "            label =  np.random.randint(0, n_labels)\n",
    "        r = 2.0 * np.pi / float(n_labels) * float(label)\n",
    "        new_x = x * cos(r) - y * sin(r)\n",
    "        new_y = x * sin(r) + y * cos(r)\n",
    "        new_x += shift * cos(r)\n",
    "        new_y += shift * sin(r)\n",
    "        return np.array([new_x, new_y]).reshape((2,))\n",
    "\n",
    "    x = np.random.normal(0, x_var, (batch_size, n_dim // 2))\n",
    "    y = np.random.normal(0, y_var, (batch_size, n_dim // 2))\n",
    "    z = np.empty((batch_size, n_dim), dtype=np.float32)\n",
    "    for batch in range(batch_size):\n",
    "        for zi in range(n_dim // 2):\n",
    "            if label_indices is not None:\n",
    "                z[batch, zi*2:zi*2+2] = sample(x[batch, zi], y[batch, zi], label_indices[batch], n_labels)\n",
    "            else:\n",
    "                z[batch, zi*2:zi*2+2] = sample(x[batch, zi], y[batch, zi], np.random.randint(0, n_labels), n_labels)\n",
    "\n",
    "    return z\n"
   ]
  },
  {
   "cell_type": "code",
   "execution_count": 13,
   "metadata": {},
   "outputs": [],
   "source": [
    "z=gaussian_mixture(20000)"
   ]
  },
  {
   "cell_type": "code",
   "execution_count": 14,
   "metadata": {},
   "outputs": [
    {
     "data": {
      "text/plain": [
       "<matplotlib.collections.PathCollection at 0x7f75481fad68>"
      ]
     },
     "execution_count": 14,
     "metadata": {},
     "output_type": "execute_result"
    },
    {
     "data": {
      "image/png": "[encoded data removed]",
      "text/plain": [
       "<Figure size 432x288 with 1 Axes>"
      ]
     },
     "metadata": {},
     "output_type": "display_data"
    }
   ],
   "source": [
    "xs, ys = np.array(z).T\n",
    "plt.figure()\n",
    "plt.scatter(xs, ys, s=2, color='b')"
   ]
  },
  {
   "cell_type": "code",
   "execution_count": 15,
   "metadata": {},
   "outputs": [],
   "source": [
    "def reconstruction_loss():        \n",
    "    if recon_obj_type == 'QE':\n",
    "        return 'mean_squared_error'\n",
    "    elif recon_obj_type == 'CE':\n",
    "        return 'binary_crossentropy'\n",
    "def rs_loss(y_true,y_pred):\n",
    "    recon=K.sum(K.binary_crossentropy(y_pred,y_true),axis=1)\n",
    "    return recon\n",
    "# build model\n",
    "autoencoder.compile(optimizer=opt_rec,\n",
    "                     loss='mean_squared_error')\n",
    "\n",
    "discriminator.compile(optimizer=opt_disc,\n",
    "                     loss='binary_crossentropy')\n",
    "\n",
    "discriminator_x.compile(optimizer=opt_gen,\n",
    "                     loss='binary_crossentropy')\n",
    "\n",
    "\n"
   ]
  },
  {
   "cell_type": "markdown",
   "metadata": {},
   "source": [
    "## Train the model"
   ]
  },
  {
   "cell_type": "code",
   "execution_count": 16,
   "metadata": {},
   "outputs": [
    {
     "name": "stdout",
     "output_type": "stream",
     "text": [
      "Epoch 1 of 20\n",
      "\r",
      "  0/203 [..............................] - ETA: 0s"
     ]
    },
    {
     "name": "stderr",
     "output_type": "stream",
     "text": [
      "/home/zhangj/anaconda2/envs/Python35/lib/python3.5/site-packages/keras/engine/training.py:973: UserWarning: Discrepancy between trainable weights and collected trainable weights, did you set `model.trainable` without calling `model.compile` after ?\n",
      "  'Discrepancy between trainable weights and collected trainable'\n"
     ]
    },
    {
     "name": "stdout",
     "output_type": "stream",
     "text": [
      "200/203 [============================>.] - ETA: 0s\n",
      "Testing for epoch 1:\n",
      "latent z\n",
      "2\n",
      "          generative_loss  recon_loss       disc_loss       \n",
      "train     1.367            0.028            0.403           \n",
      "test      1.687            0.026            0.380           \n",
      "Epoch 2 of 20\n",
      "198/203 [============================>.] - ETA: 0s\n",
      "Testing for epoch 2:\n",
      "latent z\n",
      "2\n",
      "          generative_loss  recon_loss       disc_loss       \n",
      "train     1.796            0.026            0.328           \n",
      "test      1.862            0.025            0.335           \n",
      "Epoch 3 of 20\n",
      "196/203 [===========================>..] - ETA: 0s\n",
      "Testing for epoch 3:\n",
      "latent z\n",
      "2\n",
      "          generative_loss  recon_loss       disc_loss       \n",
      "train     1.940            0.025            0.299           \n",
      "test      1.984            0.024            0.322           \n",
      "Epoch 4 of 20\n",
      "197/203 [============================>.] - ETA: 0s\n",
      "Testing for epoch 4:\n",
      "latent z\n",
      "2\n",
      "          generative_loss  recon_loss       disc_loss       \n",
      "train     2.032            0.024            0.284           \n",
      "test      2.055            0.023            0.301           \n",
      "Epoch 5 of 20\n",
      "201/203 [============================>.] - ETA: 0s\n",
      "Testing for epoch 5:\n",
      "latent z\n",
      "2\n",
      "          generative_loss  recon_loss       disc_loss       \n",
      "train     2.104            0.023            0.269           \n",
      "test      2.120            0.023            0.299           \n",
      "Epoch 6 of 20\n",
      "202/203 [============================>.] - ETA: 0s\n",
      "Testing for epoch 6:\n",
      "latent z\n",
      "2\n",
      "          generative_loss  recon_loss       disc_loss       \n",
      "train     2.155            0.023            0.260           \n",
      "test      2.165            0.023            0.280           \n",
      "Epoch 7 of 20\n",
      "197/203 [============================>.] - ETA: 0s\n",
      "Testing for epoch 7:\n",
      "latent z\n",
      "2\n",
      "          generative_loss  recon_loss       disc_loss       \n",
      "train     2.190            0.023            0.255           \n",
      "test      2.190            0.022            0.277           \n",
      "Epoch 8 of 20\n",
      "200/203 [============================>.] - ETA: 0s\n",
      "Testing for epoch 8:\n",
      "latent z\n",
      "2\n",
      "          generative_loss  recon_loss       disc_loss       \n",
      "train     2.221            0.023            0.247           \n",
      "test      2.233            0.022            0.273           \n",
      "Epoch 9 of 20\n",
      "199/203 [============================>.] - ETA: 0s\n",
      "Testing for epoch 9:\n",
      "latent z\n",
      "2\n",
      "          generative_loss  recon_loss       disc_loss       \n",
      "train     2.248            0.022            0.247           \n",
      "test      2.244            0.022            0.259           \n",
      "Epoch 10 of 20\n",
      "196/203 [===========================>..] - ETA: 0s\n",
      "Testing for epoch 10:\n",
      "latent z\n",
      "2\n",
      "          generative_loss  recon_loss       disc_loss       \n",
      "train     2.273            0.022            0.237           \n",
      "test      2.273            0.022            0.258           \n",
      "Epoch 11 of 20\n",
      "200/203 [============================>.] - ETA: 0s\n",
      "Testing for epoch 11:\n",
      "latent z\n",
      "2\n",
      "          generative_loss  recon_loss       disc_loss       \n",
      "train     2.297            0.022            0.233           \n",
      "test      2.292            0.022            0.253           \n",
      "Epoch 12 of 20\n",
      "199/203 [============================>.] - ETA: 0s\n",
      "Testing for epoch 12:\n",
      "latent z\n",
      "2\n",
      "          generative_loss  recon_loss       disc_loss       \n",
      "train     2.322            0.022            0.226           \n",
      "test      2.317            0.022            0.245           \n",
      "Epoch 13 of 20\n",
      "199/203 [============================>.] - ETA: 0s\n",
      "Testing for epoch 13:\n",
      "latent z\n",
      "2\n",
      "          generative_loss  recon_loss       disc_loss       \n",
      "train     2.336            0.022            0.227           \n",
      "test      2.330            0.022            0.246           \n",
      "Epoch 14 of 20\n",
      "198/203 [============================>.] - ETA: 0s\n",
      "Testing for epoch 14:\n",
      "latent z\n",
      "2\n",
      "          generative_loss  recon_loss       disc_loss       \n",
      "train     2.353            0.022            0.223           \n",
      "test      2.347            0.022            0.247           \n",
      "Epoch 15 of 20\n",
      "198/203 [============================>.] - ETA: 0s\n",
      "Testing for epoch 15:\n",
      "latent z\n",
      "2\n",
      "          generative_loss  recon_loss       disc_loss       \n",
      "train     2.365            0.022            0.223           \n",
      "test      2.354            0.021            0.234           \n",
      "Epoch 16 of 20\n",
      "202/203 [============================>.] - ETA: 0s\n",
      "Testing for epoch 16:\n",
      "latent z\n",
      "2\n",
      "          generative_loss  recon_loss       disc_loss       \n",
      "train     2.374            0.022            0.217           \n",
      "test      2.372            0.021            0.230           \n",
      "Epoch 17 of 20\n",
      "198/203 [============================>.] - ETA: 0s\n",
      "Testing for epoch 17:\n",
      "latent z\n",
      "2\n",
      "          generative_loss  recon_loss       disc_loss       \n",
      "train     2.391            0.022            0.217           \n",
      "test      2.383            0.021            0.241           \n",
      "Epoch 18 of 20\n",
      "201/203 [============================>.] - ETA: 0s\n",
      "Testing for epoch 18:\n",
      "latent z\n",
      "2\n",
      "          generative_loss  recon_loss       disc_loss       \n",
      "train     2.404            0.022            0.211           \n",
      "test      2.399            0.021            0.229           \n",
      "Epoch 19 of 20\n",
      "201/203 [============================>.] - ETA: 0s\n",
      "Testing for epoch 19:\n",
      "latent z\n",
      "2\n",
      "          generative_loss  recon_loss       disc_loss       \n",
      "train     2.423            0.022            0.208           \n",
      "test      2.416            0.021            0.232           \n",
      "Epoch 20 of 20\n",
      "197/203 [============================>.] - ETA: 0s\n",
      "Testing for epoch 20:\n",
      "latent z\n",
      "2\n",
      "          generative_loss  recon_loss       disc_loss       \n",
      "train     2.435            0.021            0.207           \n",
      "test      2.428            0.021            0.232           \n"
     ]
    }
   ],
   "source": [
    "# In[57]:\n",
    "nb_batches=int(x_train.shape[0]/batch_size)\n",
    "\n",
    "# train\n",
    "train_history = defaultdict(list)\n",
    "test_history = defaultdict(list)\n",
    "\n",
    "with open(path+'/train.log','w') as f:\n",
    "    f.write('train_begin\\n' )\n",
    "    \n",
    "for epoch in range(num_epochs):\n",
    "    print('Epoch {} of {}'.format(epoch+1,num_epochs))\n",
    "    progress_bar=Progbar(target=nb_batches)\n",
    "\n",
    "    epoch_gen_loss=[]\n",
    "    epoch_disc_loss=[]\n",
    "    epoch_rec_loss=[]\n",
    "\n",
    "    for index in range(nb_batches):\n",
    "        progress_bar.update(index)\n",
    "        # get a batch of real images\n",
    "        x_batch=x_train[index*batch_size:(index+1)*batch_size]\n",
    "        y_batch=y_train[index*batch_size:(index+1)*batch_size]\n",
    "        \n",
    "        z_real=gaussian_mixture(batch_size)\n",
    "        for i in range(batch_size):\n",
    "            if y_batch[i,0]==1:\n",
    "                    z_real[i,0]=np.abs(z_real[i,0])\n",
    "            else:\n",
    "                    z_real[i,0]=-1*np.abs(z_real[i,0])\n",
    "        #z_real=z_real[np.newaxis,:]\n",
    "        make_trainable(autoencoder,True)\n",
    "        _rec=autoencoder.train_on_batch([x_batch,y_batch],x_batch)\n",
    "        epoch_rec_loss.append(_rec)\n",
    "        \n",
    "        # train the discriminator \n",
    "        make_trainable(autoencoder,False)          \n",
    "        make_trainable(discriminator,True)\n",
    "        \n",
    "        z_fake=encoder.predict([x_batch,y_batch])\n",
    "        z_batch=np.concatenate([z_real,z_fake],axis=0)\n",
    "        labels_batch=np.concatenate([np.zeros((batch_size,1)),np.ones((batch_size,1))],axis=0)\n",
    "        _disc=discriminator.train_on_batch([z_batch],labels_batch)\n",
    "        epoch_disc_loss.append(_disc)\n",
    "\n",
    "        # train the generator\n",
    "        make_trainable(discriminator,False)\n",
    "        make_trainable(autoencoder,True)            \n",
    "        \n",
    "        labels_x_batch=np.zeros((batch_size,1))\n",
    "        _gen=discriminator_x.train_on_batch([x_batch,y_batch],labels_x_batch)\n",
    "        epoch_gen_loss.append(_gen)\n",
    "\n",
    "    print('\\nTesting for epoch {}:'.format(epoch+1))\n",
    "\n",
    "    # evaluate the testing loss\n",
    "    n_test=x_test.shape[0]\n",
    "    z_real_test=gaussian_mixture(n_test)\n",
    "    for i in range(n_test):\n",
    "        if y_test[i,0]==1:\n",
    "                z_real_test[i,0]=np.abs(z_real_test[i,0])\n",
    "        else:\n",
    "                z_real_test[i,0]=-1*np.abs(z_real_test[i,0])\n",
    "    #z_real_test=gaussian_mixture(n_test)\n",
    "    z_fake_test=encoder.predict([x_test,y_test])\n",
    "    \n",
    "    labels_test=np.concatenate([np.zeros((n_test,1)),np.ones((n_test,1))],axis=0)    \n",
    "    z_test=np.concatenate([z_real_test,z_fake_test],axis=0)    \n",
    "    \n",
    "    test_rec_loss  = autoencoder.test_on_batch([x_test,y_test],x_test)\n",
    "    test_disc_loss = discriminator.test_on_batch([z_test],labels_test)\n",
    "    test_gen_loss  = discriminator_x.test_on_batch([x_test,y_test],np.zeros((n_test,1)))\n",
    "\n",
    "    train_rec_loss  = np.mean(np.array(epoch_rec_loss),axis=0)\n",
    "    train_disc_loss = np.mean(np.array(epoch_disc_loss), axis=0)\n",
    "    train_gen_loss  = np.mean(np.array(epoch_gen_loss),axis=0)\n",
    "\n",
    "    train_history['generative'].append(train_gen_loss)\n",
    "    train_history['discriminator'].append(train_disc_loss)\n",
    "    train_history['reconstruction'].append(train_rec_loss)\n",
    "\n",
    "    test_history['generative'].append(test_gen_loss)\n",
    "    test_history['discriminator'].append(test_disc_loss)\n",
    "    test_history['reconstruction'].append(test_rec_loss)\n",
    "\n",
    "    encoded_x=encoder.predict([x_test,y_test])\n",
    "    print('latent z')\n",
    "    print(latent_dim)\n",
    "    if (epoch %5==4) & (latent_dim==2):\n",
    "        _y=np.zeros((n_test,1))\n",
    "        #plot_latent_variable(path,encoded_x,_y,epoch=epoch)       \n",
    "    ROW_FMT_1='{0:8s}  {1:<15s}  {2:<15s}  {3:<15s} '\n",
    "    ROW_FMT_2='{0:8s}  {1:<15.3f}  {2:<15.3f}  {3:<15.3f} '\n",
    "    \n",
    "    str1=ROW_FMT_1.format('','generative_loss','recon_loss','disc_loss')\n",
    "    str2=ROW_FMT_2.format('train', train_history['generative'][-1],\n",
    "                     train_history['reconstruction'][-1],\n",
    "                     train_history['discriminator'][-1])\n",
    "    str3=ROW_FMT_2.format('test',  test_history['generative'][-1],\n",
    "                     test_history['reconstruction'][-1],\n",
    "                     test_history['discriminator'][-1])\n",
    "    \n",
    "    print(str1+'\\n'+str2+'\\n'+str3)\n",
    "    with open(path+'/train.log','a') as f:\n",
    "        f.write('\\nepoch{}:\\n'.format(epoch))\n",
    "        f.write(str1+'\\n'+str2+'\\n'+str3)\n",
    "    # save weights every 5 epoch\n",
    "    if epoch%5==4:\n",
    "        autoencoder.save_weights(path+'/params_combined_model_epoch_{0:03d}.hdf5'.format(epoch),True)\n",
    "\n",
    "pickle.dump({'train':train_history,'test': test_history},open(path+'/aae_history.pkl','wb'))\n",
    "# sample from learned distribution\n"
   ]
  },
  {
   "cell_type": "markdown",
   "metadata": {},
   "source": [
    "## Visualization of latent space"
   ]
  },
  {
   "cell_type": "code",
   "execution_count": 17,
   "metadata": {},
   "outputs": [],
   "source": [
    "latent_z=encoder.predict([x_train,y_train])\n",
    "latent_z_test=encoder.predict([x_test,y_test])"
   ]
  },
  {
   "cell_type": "markdown",
   "metadata": {},
   "source": [
    "### training data"
   ]
  },
  {
   "cell_type": "code",
   "execution_count": 18,
   "metadata": {},
   "outputs": [
    {
     "data": {
      "text/plain": [
       "<matplotlib.collections.PathCollection at 0x7f7548279898>"
      ]
     },
     "execution_count": 18,
     "metadata": {},
     "output_type": "execute_result"
    },
    {
     "data": {
      "image/png": "[encoded data removed]",
      "text/plain": [
       "<Figure size 432x288 with 1 Axes>"
      ]
     },
     "metadata": {},
     "output_type": "display_data"
    }
   ],
   "source": [
    "xs, ys = np.array(latent_z).T\n",
    "plt.figure()\n",
    "# plt.title(\"round {}: {} in latent space\".format(model.step, title))\n",
    "kwargs = {'alpha': 0.8}\n",
    "label_list=[int(x) for x in y_train[:,0]]\n",
    "classes = set(label_list)\n",
    "if classes:\n",
    "    colormap = plt.cm.rainbow(np.linspace(0, 1, len(classes)))\n",
    "    kwargs['c'] = [colormap[i] for i in label_list]\n",
    "    # make room for legend\n",
    "    ax = plt.subplot(111, aspect='equal')\n",
    "    box = ax.get_position()\n",
    "    ax.set_position([box.x0, box.y0, box.width * 0.8, box.height])\n",
    "    handles = [mpatches.Circle((0,0), label=class_, color=colormap[i])\n",
    "              for i, class_ in enumerate(classes)]\n",
    "    ax.legend(handles=handles, shadow=True, bbox_to_anchor=(1.05, 0.45),\n",
    "              fancybox=True, loc='center left')\n",
    "\n",
    "plt.scatter(xs, ys, s=2, **kwargs)\n",
    "\n"
   ]
  },
  {
   "cell_type": "markdown",
   "metadata": {},
   "source": [
    "### testing data"
   ]
  },
  {
   "cell_type": "code",
   "execution_count": 19,
   "metadata": {},
   "outputs": [
    {
     "data": {
      "text/plain": [
       "<matplotlib.collections.PathCollection at 0x7f7528713048>"
      ]
     },
     "execution_count": 19,
     "metadata": {},
     "output_type": "execute_result"
    },
    {
     "data": {
      "image/png": "[encoded data removed]",
      "text/plain": [
       "<Figure size 432x288 with 1 Axes>"
      ]
     },
     "metadata": {},
     "output_type": "display_data"
    }
   ],
   "source": [
    "xs, ys = np.array(latent_z_test).T\n",
    "\n",
    "plt.figure()\n",
    "# plt.title(\"round {}: {} in latent space\".format(model.step, title))\n",
    "kwargs = {'alpha': 0.8}\n",
    "label_list=[int(x) for x in y_test[:,0]]\n",
    "classes = set(label_list)\n",
    "if classes:\n",
    "    colormap = plt.cm.rainbow(np.linspace(0, 1, len(classes)))\n",
    "    kwargs['c'] = [colormap[i] for i in label_list]\n",
    "\n",
    "    # make room for legend\n",
    "    ax = plt.subplot(111, aspect='equal')\n",
    "    box = ax.get_position()\n",
    "    ax.set_position([box.x0, box.y0, box.width * 0.8, box.height])\n",
    "    handles = [mpatches.Circle((0,0), label=class_, color=colormap[i])\n",
    "              for i, class_ in enumerate(classes)]\n",
    "    ax.legend(handles=handles, shadow=True, bbox_to_anchor=(1.05, 0.45),\n",
    "              fancybox=True, loc='center left')\n",
    "\n",
    "plt.scatter(xs, ys, s=2, **kwargs)\n"
   ]
  },
  {
   "cell_type": "markdown",
   "metadata": {},
   "source": [
    "## Sample from p(z) and evaluate"
   ]
  },
  {
   "cell_type": "code",
   "execution_count": 28,
   "metadata": {
    "scrolled": true
   },
   "outputs": [
    {
     "name": "stdout",
     "output_type": "stream",
     "text": [
      "Reconstruction:\n",
      "mean: 0.0\n",
      "variance: 0.576493382112209\n",
      "Generation:\n",
      "mean: 1.022879076098862\n",
      "variance: 0.0023501602\n"
     ]
    }
   ],
   "source": [
    "new_size=50000\n",
    "c=np.ones((new_size,1))\n",
    "d=np.zeros((new_size,1))\n",
    "z_sample_1=gaussian_mixture(new_size)\n",
    "z_sample_2=gaussian_mixture(new_size)\n",
    "for i in range(new_size):\n",
    "    z_sample_1[i,0]=np.abs(z_sample_1[i,0])\n",
    "    z_sample_2[i,0]=-1*np.abs(z_sample_2[i,0])\n",
    "new_sample_N=decoder.predict([z_sample_1,c])\n",
    "new_sample_F=decoder.predict([z_sample_2,d])\n",
    "sess=tf.Session()\n",
    "sess.run(tf.global_variables_initializer())\n",
    "x_normal = Data_normalization[0:1314]\n",
    "x_mean=np.mean(x_normal,axis=0)\n",
    "x_hat = autoencoder.predict([x_normal,c])\n",
    "def loss(a,b):\n",
    "    result = np.dot((a-b),(a-b))\n",
    "    return result\n",
    "def cal_var(data,mean):\n",
    "    total_var = []\n",
    "    for i in range(data.shape[0]):\n",
    "        var = loss(data[i],mean)\n",
    "        total_var.append(var)\n",
    "    return total_var\n",
    "new_sample_N1=new_sample_N[0:1314]\n",
    "new_sample_mean=np.mean(new_sample_N1,axis=0)\n",
    "print('Reconstruction:')\n",
    "print('mean:',loss(x_mean,x_mean))\n",
    "print('variance:',np.mean(cal_var(x_normal,x_mean)))\n",
    "print('Generation:')\n",
    "print('mean:',loss(new_sample_mean,x_mean))\n",
    "print('variance:',np.mean(cal_var(new_sample_N1,new_sample_mean)))\n",
    "np.savetxt(path + '/sample_fault1.txt',new_sample_N)\n",
    "\n"
   ]
  },
  {
   "cell_type": "markdown",
   "metadata": {},
   "source": [
    "### sampling distribution"
   ]
  },
  {
   "cell_type": "code",
   "execution_count": 29,
   "metadata": {},
   "outputs": [],
   "source": [
    "label_list=[]\n",
    "for i in range(2*new_size):\n",
    "    if i<new_size:\n",
    "        label_list.append(1)\n",
    "    else:\n",
    "        label_list.append(0)"
   ]
  },
  {
   "cell_type": "code",
   "execution_count": 30,
   "metadata": {},
   "outputs": [
    {
     "data": {
      "text/plain": [
       "<matplotlib.collections.PathCollection at 0x7f740066c6d8>"
      ]
     },
     "execution_count": 30,
     "metadata": {},
     "output_type": "execute_result"
    },
    {
     "data": {
      "image/png": "[encoded data removed]",
      "text/plain": [
       "<Figure size 600x400 with 1 Axes>"
      ]
     },
     "metadata": {},
     "output_type": "display_data"
    }
   ],
   "source": [
    "sample_z=np.concatenate([z_sample_1,z_sample_2],axis=0)\n",
    "xs, ys = np.array(sample_z).T\n",
    "\n",
    "plt.figure()\n",
    "# plt.title(\"round {}: {} in latent space\".format(model.step, title))\n",
    "kwargs = {'alpha': 0.8}\n",
    "#label_list=[int(x) for x in y_train[:,0]]\n",
    "classes = set(label_list)\n",
    "if classes:\n",
    "    colormap = plt.cm.rainbow(np.linspace(0, 1, len(classes)))\n",
    "    kwargs['c'] = [colormap[i] for i in label_list]\n",
    "\n",
    "    # make room for legend\n",
    "    ax = plt.subplot(111, aspect='equal')\n",
    "    box = ax.get_position()\n",
    "    ax.set_position([box.x0, box.y0, box.width * 0.8, box.height])\n",
    "    handles = [mpatches.Circle((0,0), label=class_, color=colormap[i])\n",
    "              for i, class_ in enumerate(classes)]\n",
    "    ax.legend(handles=handles, shadow=True, bbox_to_anchor=(1.05, 0.45),\n",
    "              fancybox=True, loc='center left')\n",
    "\n",
    "plt.scatter(xs, ys, s=2, **kwargs)\n"
   ]
  },
  {
   "cell_type": "code",
   "execution_count": 31,
   "metadata": {},
   "outputs": [],
   "source": [
    "x_G=new_sample_N[0:5000]\n",
    "x_F=new_sample_F[0:5000]"
   ]
  },
  {
   "cell_type": "code",
   "execution_count": 32,
   "metadata": {},
   "outputs": [],
   "source": [
    "g=np.ones((5000,1))\n",
    "f=np.zeros((5000,1))\n",
    "x_g=encoder.predict([x_G,g])\n",
    "x_f=encoder.predict([x_F,f])\n",
    "sample=np.concatenate([x_g,x_f],axis=0)\n",
    "label_list=[]\n",
    "for i in range(10000):\n",
    "    if i<5000:\n",
    "        label_list.append(1)\n",
    "    else:\n",
    "        label_list.append(0)"
   ]
  },
  {
   "cell_type": "code",
   "execution_count": 33,
   "metadata": {},
   "outputs": [
    {
     "data": {
      "text/plain": [
       "<matplotlib.collections.PathCollection at 0x7f73e86e66d8>"
      ]
     },
     "execution_count": 33,
     "metadata": {},
     "output_type": "execute_result"
    },
    {
     "data": {
      "image/png": "[encoded data removed]",
      "text/plain": [
       "<Figure size 600x400 with 1 Axes>"
      ]
     },
     "metadata": {},
     "output_type": "display_data"
    }
   ],
   "source": [
    "xs, ys = np.array(sample).T\n",
    "\n",
    "plt.figure()\n",
    "# plt.title(\"round {}: {} in latent space\".format(model.step, title))\n",
    "kwargs = {'alpha': 0.8}\n",
    "#label_list=[int(x) for x in y_train[:,0]]\n",
    "classes = set(label_list)\n",
    "if classes:\n",
    "    colormap = plt.cm.rainbow(np.linspace(0, 1, len(classes)))\n",
    "    kwargs['c'] = [colormap[i] for i in label_list]\n",
    "\n",
    "    # make room for legend\n",
    "    ax = plt.subplot(111, aspect='equal')\n",
    "    box = ax.get_position()\n",
    "    ax.set_position([box.x0, box.y0, box.width * 0.8, box.height])\n",
    "    handles = [mpatches.Circle((0,0), label=class_, color=colormap[i])\n",
    "              for i, class_ in enumerate(classes)]\n",
    "    ax.legend(handles=handles, shadow=True, bbox_to_anchor=(1.05, 0.45),\n",
    "              fancybox=True, loc='center left')\n",
    "\n",
    "plt.scatter(xs, ys, s=1, **kwargs)\n"
   ]
  },
  {
   "cell_type": "code",
   "execution_count": 34,
   "metadata": {},
   "outputs": [],
   "source": [
    "from sklearn.decomposition import PCA\n",
    "pca=PCA(n_components=2)"
   ]
  },
  {
   "cell_type": "code",
   "execution_count": 35,
   "metadata": {},
   "outputs": [
    {
     "data": {
      "text/plain": [
       "<matplotlib.collections.PathCollection at 0x7f73972e0128>"
      ]
     },
     "execution_count": 35,
     "metadata": {},
     "output_type": "execute_result"
    },
    {
     "data": {
      "image/png": "[encoded data removed]",
      "text/plain": [
       "<Figure size 600x400 with 1 Axes>"
      ]
     },
     "metadata": {},
     "output_type": "display_data"
    }
   ],
   "source": [
    "x_G=pca.fit_transform(x_G[0:1314])\n",
    "x_F=pca.fit_transform(x_F[0:1314])\n",
    "x_N=pca.fit_transform(x_normal)\n",
    "matplotlib.rcParams['xtick.direction'] = 'in'\n",
    "matplotlib.rcParams['ytick.direction'] = 'in'\n",
    "\n",
    "plt.rcParams['figure.dpi'] = 100\n",
    "plt.scatter(x_N[:,0],x_N[:,1],color='r',s=2)\n",
    "plt.scatter(x_G[:,0],x_G[:,1],color='b',s=2)\n",
    "plt.scatter(x_F[:,0],x_F[:,1],color='g',s=2)\n"
   ]
  },
  {
   "cell_type": "code",
   "execution_count": null,
   "metadata": {},
   "outputs": [],
   "source": []
  },
  {
   "cell_type": "code",
   "execution_count": null,
   "metadata": {},
   "outputs": [],
   "source": []
  }
 ],
 "metadata": {
  "kernelspec": {
   "display_name": "Python 3",
   "language": "python",
   "name": "python3"
  },
  "language_info": {
   "codemirror_mode": {
    "name": "ipython",
    "version": 3
   },
   "file_extension": ".py",
   "mimetype": "text/x-python",
   "name": "python",
   "nbconvert_exporter": "python",
   "pygments_lexer": "ipython3",
   "version": "3.5.4"
  }
 },
 "nbformat": 4,
 "nbformat_minor": 2
}
